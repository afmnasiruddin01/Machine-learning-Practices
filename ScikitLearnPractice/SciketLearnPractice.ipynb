{
 "cells": [
  {
   "cell_type": "code",
   "execution_count": null,
   "id": "eae96ce9-69e9-4dd6-9ff7-6d4c6b546f2c",
   "metadata": {},
   "outputs": [],
   "source": []
  }
 ],
 "metadata": {
  "kernelspec": {
   "display_name": "",
   "name": ""
  },
  "language_info": {
   "name": ""
  }
 },
 "nbformat": 4,
 "nbformat_minor": 5
}
